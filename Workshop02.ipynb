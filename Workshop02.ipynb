{
 "cells": [
  {
   "cell_type": "markdown",
   "metadata": {},
   "source": [
    "# Useful links"
   ]
  },
  {
   "cell_type": "markdown",
   "metadata": {},
   "source": [
    "### Getting started\n",
    "\n",
    "Titanic problem  \n",
    "https://www.kaggle.com/c/titanic\n",
    "\n",
    "Tutorial with python  \n",
    "https://www.kaggle.com/c/titanic/details/getting-started-with-python\n",
    "\n",
    "Tutorial with pandas in python  \n",
    "https://www.kaggle.com/c/titanic/details/getting-started-with-python-ii \n",
    "\n",
    "Getting started with random forests  \n",
    "https://www.kaggle.com/c/titanic/details/getting-started-with-random-forests "
   ]
  },
  {
   "cell_type": "code",
   "execution_count": null,
   "metadata": {
    "collapsed": true
   },
   "outputs": [],
   "source": []
  }
 ],
 "metadata": {
  "kernelspec": {
   "display_name": "Python 2",
   "language": "python",
   "name": "python2"
  },
  "language_info": {
   "codemirror_mode": {
    "name": "ipython",
    "version": 2
   },
   "file_extension": ".py",
   "mimetype": "text/x-python",
   "name": "python",
   "nbconvert_exporter": "python",
   "pygments_lexer": "ipython2",
   "version": "2.7.11"
  }
 },
 "nbformat": 4,
 "nbformat_minor": 0
}
