{
 "cells": [
  {
   "cell_type": "markdown",
   "metadata": {},
   "source": [
    "# Overview of what Kaggle really is\n",
    "\n",
    "They have a youtube channel; the playlists have the good stuff.  \n",
    "https://www.youtube.com/user/kaggledotcom/playlists?nohtml5=False\n",
    "\n",
    "Get pretty much up to speed on kaggle by hearing about it from their CEO:  \n",
    "https://www.youtube.com/watch?v=0PMHNc_2RrY#t=458.345272 \n",
    "\n",
    "If you win a competition, there's serious prize money involved.\n",
    "https://www.kaggle.com/wiki/FormingATeam "
   ]
  },
  {
   "cell_type": "markdown",
   "metadata": {},
   "source": [
    "### Prerequisites  \n",
    "\n",
    "##### Preferred set up\n",
    "\n",
    "Anaconda (for Python 2.7) for the code we'll do locally.  \n",
    "https://www.continuum.io/downloads \n",
    "\n",
    "But we'll explain kaggles python version below with a script that runs on their end.\n",
    "\n",
    "Kaggle Scripts...more on this later. The script above may be useful on your own.  \n",
    "https://www.kaggle.com/c/titanic/forums/t/13390/introducing-kaggle-scripts\n",
    "\n",
    "Kaggle Forums - there is lots of q/a, code review, etc\n",
    "https://www.kaggle.com/forums \n",
    "\n",
    "From the titanic tutorial, here are the relevant additions you'll use either on your own or in kaggle scripts:  \n",
    "\"Numpy, Scipy, Pandas, matplotlib and csv package. In order to check whether you have these, just go to your python command line and type  import numpy\""
   ]
  },
  {
   "cell_type": "markdown",
   "metadata": {},
   "source": [
    "### Getting started with our Titanic Problem\n",
    "\n",
    "Titanic problem  \n",
    "https://www.kaggle.com/c/titanic  \n",
    "+ check out the sidebar titled \"Dashboard\"\n",
    "+ explore their visualizations https://www.kaggle.com/c/titanic/prospector#175 \n",
    "\n",
    "How to start with python (standalone tutorial for submission; concepts shown first in excel)  \n",
    "https://www.kaggle.com/c/titanic/details/getting-started-with-python\n",
    "\n",
    "Tutorial on using pandas in python (not a standalone tutorial to create submission)  \n",
    "https://www.kaggle.com/c/titanic/details/getting-started-with-python-ii \n",
    "\n",
    "Getting started with random forests (standalone tutorial for submission relying on pandas tutorial)\n",
    "https://www.kaggle.com/c/titanic/details/getting-started-with-random-forests "
   ]
  },
  {
   "cell_type": "markdown",
   "metadata": {},
   "source": [
    "### Old DSI code may help you out\n",
    "Our fall 2015 has an example that's relevant. \n",
    "\n",
    "https://github.com/dsiufl/Python-Workshops "
   ]
  },
  {
   "cell_type": "markdown",
   "metadata": {
    "collapsed": true
   },
   "source": [
    "# Submission ID"
   ]
  },
  {
   "cell_type": "markdown",
   "metadata": {},
   "source": [
    "Check my test submission on the leaderboard here  \n",
    "https://www.kaggle.com/c/titanic/leaderboard?submissionId=2818820  \n",
    "\n",
    "ctrl+f your username on the leaderboard to find yourself quickly, it's a long list."
   ]
  },
  {
   "cell_type": "markdown",
   "metadata": {},
   "source": [
    "# Let's start creating our submission\n",
    "We are trying to create a csv that holds our predictions for whether or not somebody survived. \n",
    "To stay organized, we want the ipython notebook to work with a few important directories:  \n",
    "+ data (simply download from the competition page)\n",
    "+ predictions (where we will write out predictions after training a model)\n",
    "+ scripts (where you can store .py scripts if you want to have significantly different versions, examples, other users' scripts, etc)"
   ]
  },
  {
   "cell_type": "code",
   "execution_count": 1,
   "metadata": {
    "collapsed": true
   },
   "outputs": [],
   "source": [
    "#imports\n",
    "import csv as csv\n",
    "import numpy as np"
   ]
  },
  {
   "cell_type": "code",
   "execution_count": 15,
   "metadata": {
    "collapsed": false
   },
   "outputs": [],
   "source": [
    "#things that could be easier in pandas\n",
    "csv_file_object = csv.reader(open('./data/train.csv', 'rb'))\n",
    "\n",
    "# The next() command just skips the first line which is a header\n",
    "header = csv_file_object.next()\n",
    "\n",
    "#reading into a csv object\n"
   ]
  },
  {
   "cell_type": "code",
   "execution_count": 1,
   "metadata": {
    "collapsed": false
   },
   "outputs": [
    {
     "name": "stdout",
     "output_type": "stream",
     "text": [
      "Just print the data so I can see if it loaded\n"
     ]
    },
    {
     "ename": "NameError",
     "evalue": "name 'data' is not defined",
     "output_type": "error",
     "traceback": [
      "\u001b[0;31m---------------------------------------------------------------------------\u001b[0m",
      "\u001b[0;31mNameError\u001b[0m                                 Traceback (most recent call last)",
      "\u001b[0;32m<ipython-input-1-feb8d67d5f1c>\u001b[0m in \u001b[0;36m<module>\u001b[0;34m()\u001b[0m\n\u001b[1;32m      1\u001b[0m \u001b[0;31m#don't forget how python indeces work\u001b[0m\u001b[0;34m\u001b[0m\u001b[0;34m\u001b[0m\u001b[0m\n\u001b[1;32m      2\u001b[0m \u001b[0;32mprint\u001b[0m \u001b[0;34m\"Just print the data so I can see if it loaded\"\u001b[0m\u001b[0;34m\u001b[0m\u001b[0m\n\u001b[0;32m----> 3\u001b[0;31m \u001b[0;32mprint\u001b[0m \u001b[0mdata\u001b[0m\u001b[0;34m\u001b[0m\u001b[0m\n\u001b[0m\u001b[1;32m      4\u001b[0m \u001b[0;34m\u001b[0m\u001b[0m\n\u001b[1;32m      5\u001b[0m \u001b[0;32mprint\u001b[0m \u001b[0;34m\"Just print the first row so I can see columns\"\u001b[0m\u001b[0;34m\u001b[0m\u001b[0m\n",
      "\u001b[0;31mNameError\u001b[0m: name 'data' is not defined"
     ]
    }
   ],
   "source": [
    "#don't forget how python indeces work\n",
    "print \"Just print the data so I can see if it loaded\"\n",
    "print data\n",
    "\n",
    "print \"Just print the first row so I can see columns\"\n",
    "\n",
    "\n",
    "print \"Just print the last row so I know I have everything\"\n"
   ]
  },
  {
   "cell_type": "code",
   "execution_count": 16,
   "metadata": {
    "collapsed": false
   },
   "outputs": [
    {
     "name": "stdout",
     "output_type": "stream",
     "text": [
      "0.383838383838\n"
     ]
    }
   ],
   "source": [
    "# let's immediately make a model\n",
    "\n",
    "number_passengers = np.size(data[0::,1].astype(np.float))\n",
    "number_survived = np.sum(data[0::,1].astype(np.float))\n",
    "\n",
    "# we actually have a usable model now to make a submission"
   ]
  },
  {
   "cell_type": "markdown",
   "metadata": {},
   "source": [
    "We'll use numpy here to quickly mask (male/female) the data while creating a gender model.  \n",
    "\n",
    "http://searchsecurity.techtarget.com/definition/data-masking  \n",
    "https://en.wikipedia.org/wiki/Data_masking"
   ]
  },
  {
   "cell_type": "code",
   "execution_count": 17,
   "metadata": {
    "collapsed": true
   },
   "outputs": [],
   "source": [
    "#lets see if women or men were more likely to survive\n"
   ]
  },
  {
   "cell_type": "code",
   "execution_count": 7,
   "metadata": {
    "collapsed": true
   },
   "outputs": [],
   "source": [
    "# make it numerical\n",
    "female_onboard = data[female_data,1].astype(np.float)\n",
    "male_onboard = data[male_data,1].astype(np.float)"
   ]
  },
  {
   "cell_type": "code",
   "execution_count": 2,
   "metadata": {
    "collapsed": false
   },
   "outputs": [
    {
     "ename": "NameError",
     "evalue": "name 'prop_female_survived' is not defined",
     "output_type": "error",
     "traceback": [
      "\u001b[0;31m---------------------------------------------------------------------------\u001b[0m",
      "\u001b[0;31mNameError\u001b[0m                                 Traceback (most recent call last)",
      "\u001b[0;32m<ipython-input-2-d927a7e79b5e>\u001b[0m in \u001b[0;36m<module>\u001b[0;34m()\u001b[0m\n\u001b[1;32m      3\u001b[0m \u001b[0;34m\u001b[0m\u001b[0m\n\u001b[1;32m      4\u001b[0m \u001b[0;34m\u001b[0m\u001b[0m\n\u001b[0;32m----> 5\u001b[0;31m \u001b[0;32mprint\u001b[0m \u001b[0mprop_female_survived\u001b[0m\u001b[0;34m,\u001b[0m \u001b[0mprop_male_survived\u001b[0m\u001b[0;34m\u001b[0m\u001b[0m\n\u001b[0m\u001b[1;32m      6\u001b[0m \u001b[0;31m# who is more likely to survive?\u001b[0m\u001b[0;34m\u001b[0m\u001b[0;34m\u001b[0m\u001b[0m\n",
      "\u001b[0;31mNameError\u001b[0m: name 'prop_female_survived' is not defined"
     ]
    }
   ],
   "source": [
    "# compare likelihood of survival\n",
    "# in doing so we create a SIMPLE gender model\n",
    "\n",
    "\n",
    "print prop_female_survived, prop_male_survived\n",
    "# who is more likely to survive?"
   ]
  },
  {
   "cell_type": "markdown",
   "metadata": {},
   "source": [
    "### Using our model to create a submission csv  \n",
    "Now we get ready to apply that simple gender model on the test data.\n",
    "We'll have to work with test.csv to do so\n",
    "The predictions have to go somewhere,\n",
    "so we'll also create a pointer to csv that doesnt exist until we save it."
   ]
  },
  {
   "cell_type": "code",
   "execution_count": 18,
   "metadata": {
    "collapsed": true
   },
   "outputs": [],
   "source": [
    "# get test data and move past header\n",
    "test_file = open('./data/test.csv', 'rb')\n",
    "test_file_object = csv.reader(test_file)\n",
    "header = test_file_object.next()"
   ]
  },
  {
   "cell_type": "code",
   "execution_count": 19,
   "metadata": {
    "collapsed": false
   },
   "outputs": [
    {
     "name": "stdout",
     "output_type": "stream",
     "text": [
      "['PassengerId', 'Pclass', 'Name', 'Sex', 'Age', 'SibSp', 'Parch', 'Ticket', 'Fare', 'Cabin', 'Embarked']\n"
     ]
    }
   ],
   "source": [
    "# be aware of what columns the data came with\n",
    "# this becomes useful as you get into more advanced Feature Engineering\n"
   ]
  },
  {
   "cell_type": "code",
   "execution_count": 20,
   "metadata": {
    "collapsed": true
   },
   "outputs": [],
   "source": [
    "#create predictions file pointer\n",
    "prediction_file = open('./predictions/mygendermodel.csv', 'wb')\n",
    "prediction_file_object = csv.writer(prediction_file)"
   ]
  },
  {
   "cell_type": "markdown",
   "metadata": {},
   "source": [
    "We'll apply the model as we read the test data per row,\n",
    "first seeing if the datum is male or female,\n",
    "then writing our prediction for that datum to a new file.\n",
    "Writing a 1 indicates survival; what does a 0 indicate?"
   ]
  },
  {
   "cell_type": "markdown",
   "metadata": {},
   "source": [
    "### Writing our predictions to the submission file"
   ]
  },
  {
   "cell_type": "code",
   "execution_count": 12,
   "metadata": {
    "collapsed": true
   },
   "outputs": [],
   "source": [
    "prediction_file_object.writerow([\"PassengerId\", \"Survived\"])\n",
    "for row in test_file_object:\n",
    "    if row[3] == 'female':\n",
    "        prediction_file_object.writerow([row[0],'1'])\n",
    "    else:\n",
    "        prediction_file_object.writerow([row[0],'0'])\n",
    "test_file.close()\n",
    "prediction_file.close()"
   ]
  },
  {
   "cell_type": "markdown",
   "metadata": {},
   "source": [
    "That's it! You've populated a csv that you can submit to Kaggle.\n",
    "Because this is a script, we can reuse it.\n",
    "This facilitates teamwork, replication, using new training data, etc.\n",
    "Let's see how we can do this with pandas in II_getstarted.py"
   ]
  },
  {
   "cell_type": "markdown",
   "metadata": {},
   "source": [
    "# Where to next?  "
   ]
  },
  {
   "cell_type": "markdown",
   "metadata": {},
   "source": [
    "### Working with other users' scripts (and using one to see our python version)  \n",
    "\n",
    "You'll want to be comfortable running code right on kaggle for the sake of testing your work before submitting; you likely will not be developing on their interface. This is why it is useful for a team leader to consider using a common repository. Let's see this script that displays what we have available on kaggle for our use: \n",
    "\n",
    "https://www.kaggle.com/burriswj/titanic/installed-python-packages-for-dsi/versions \n",
    "\n",
    "### Why do we care about sharing scripts?\n",
    "\n",
    "You might find something you like; teams ensemble methods. If you're familiar with forking from git/github, you can do the same thing here; explore what's available when viewing code.\n",
    "\n",
    "You can see where I've made changes here after I forked it:\n",
    "https://www.kaggle.com/scripts/diff/1605/200056\n",
    "\n",
    "### Kaggle inclass vs large scale competitions\n",
    "\n",
    "https://www.kaggle.com/solutions/competitions \n",
    "\n",
    "https://inclass.kaggle.com/Competitions \n"
   ]
  },
  {
   "cell_type": "code",
   "execution_count": null,
   "metadata": {
    "collapsed": true
   },
   "outputs": [],
   "source": []
  }
 ],
 "metadata": {
  "kernelspec": {
   "display_name": "Python 2",
   "language": "python",
   "name": "python2"
  },
  "language_info": {
   "codemirror_mode": {
    "name": "ipython",
    "version": 2
   },
   "file_extension": ".py",
   "mimetype": "text/x-python",
   "name": "python",
   "nbconvert_exporter": "python",
   "pygments_lexer": "ipython2",
   "version": "2.7.11"
  }
 },
 "nbformat": 4,
 "nbformat_minor": 0
}
